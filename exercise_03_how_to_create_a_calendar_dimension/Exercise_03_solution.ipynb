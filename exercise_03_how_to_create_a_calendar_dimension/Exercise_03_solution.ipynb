{
 "cells": [
  {
   "cell_type": "markdown",
   "metadata": {},
   "source": [
    "### Import Pandas\n"
   ]
  },
  {
   "cell_type": "markdown",
   "metadata": {},
   "source": [
    "`Pandas` is a powerful data analysis and manipulation tool, offering easy-to-use data structures and analysis tools for Python"
   ]
  },
  {
   "cell_type": "code",
   "execution_count": 2,
   "metadata": {},
   "outputs": [],
   "source": [
    "import pandas as pd"
   ]
  },
  {
   "cell_type": "markdown",
   "metadata": {},
   "source": [
    "### Define the file path"
   ]
  },
  {
   "cell_type": "code",
   "execution_count": 5,
   "metadata": {},
   "outputs": [],
   "source": [
    "file_path = r\"C:\\Users\\claud\\Desktop\\data_preparation_using_python\\exercise_03_how_to_create_a_calendar_dimension\\exercise_03.xlsx\""
   ]
  },
  {
   "cell_type": "markdown",
   "metadata": {},
   "source": [
    "### Load the Excel File"
   ]
  },
  {
   "cell_type": "code",
   "execution_count": 6,
   "metadata": {},
   "outputs": [
    {
     "name": "stdout",
     "output_type": "stream",
     "text": [
      "Sheet Names in the Excel File: ['dim_customer', 'dim_employee', 'dim_employee_sales_territory', 'dim_geography', 'dim_reseller', 'dim_product', 'dim_sales_territory', 'fact_reseller_sales']\n"
     ]
    }
   ],
   "source": [
    "# Load the Excel file\n",
    "try:\n",
    "    with pd.ExcelFile(file_path) as excel_file:\n",
    "\n",
    "        # Get the sheet names\n",
    "        sheet_names = excel_file.sheet_names\n",
    "        print(\"Sheet Names in the Excel File:\" , sheet_names)\n",
    "\n",
    "        # Create a dictionary to store the DataFrames\n",
    "        dataframes = {}\n",
    "\n",
    "        # Iterate over the sheet names and convert each one into a DataFrame\n",
    "        for sheet in sheet_names:\n",
    "            dataframes[sheet] = excel_file.parse(sheet)\n",
    "\n",
    "except FileNotFoundError:\n",
    "    print (f\"Error: The file at path {file_path} was not found\")\n",
    "except ImportError as e:\n",
    "    print(f\"Error {e}\")\n",
    "    print(\"Please install the missing dependency by running: pip install openpyxl or Pandas\")\n",
    "except Exception as e:\n",
    "    print(f\"Error reading the Excel File {e}\")    "
   ]
  },
  {
   "cell_type": "markdown",
   "metadata": {},
   "source": [
    "### Merge"
   ]
  },
  {
   "cell_type": "code",
   "execution_count": 7,
   "metadata": {},
   "outputs": [
    {
     "data": {
      "text/html": [
       "<div>\n",
       "<style scoped>\n",
       "    .dataframe tbody tr th:only-of-type {\n",
       "        vertical-align: middle;\n",
       "    }\n",
       "\n",
       "    .dataframe tbody tr th {\n",
       "        vertical-align: top;\n",
       "    }\n",
       "\n",
       "    .dataframe thead th {\n",
       "        text-align: right;\n",
       "    }\n",
       "</style>\n",
       "<table border=\"1\" class=\"dataframe\">\n",
       "  <thead>\n",
       "    <tr style=\"text-align: right;\">\n",
       "      <th></th>\n",
       "      <th>id_order</th>\n",
       "      <th>Order date</th>\n",
       "      <th>Due date</th>\n",
       "      <th>Ship date</th>\n",
       "      <th>id_product</th>\n",
       "      <th>id_reseller</th>\n",
       "      <th>id_employee</th>\n",
       "      <th>id_sales_territory</th>\n",
       "      <th>Order Quantity</th>\n",
       "    </tr>\n",
       "  </thead>\n",
       "  <tbody>\n",
       "    <tr>\n",
       "      <th>0</th>\n",
       "      <td>SO43897</td>\n",
       "      <td>2017-08-25</td>\n",
       "      <td>2017-09-04</td>\n",
       "      <td>2017-09-01</td>\n",
       "      <td>235</td>\n",
       "      <td>312</td>\n",
       "      <td>282</td>\n",
       "      <td>4</td>\n",
       "      <td>2</td>\n",
       "    </tr>\n",
       "  </tbody>\n",
       "</table>\n",
       "</div>"
      ],
      "text/plain": [
       "  id_order Order date   Due date  Ship date  id_product  id_reseller  \\\n",
       "0  SO43897 2017-08-25 2017-09-04 2017-09-01         235          312   \n",
       "\n",
       "   id_employee  id_sales_territory  Order Quantity  \n",
       "0          282                   4               2  "
      ]
     },
     "execution_count": 7,
     "metadata": {},
     "output_type": "execute_result"
    }
   ],
   "source": [
    "dataframes['fact_reseller_sales'].head(1)"
   ]
  },
  {
   "cell_type": "code",
   "execution_count": 9,
   "metadata": {},
   "outputs": [],
   "source": [
    "fact_sales = dataframes['fact_reseller_sales'].copy()"
   ]
  },
  {
   "cell_type": "code",
   "execution_count": 16,
   "metadata": {},
   "outputs": [
    {
     "name": "stdout",
     "output_type": "stream",
     "text": [
      "          fecha  anio  mes  dia\n",
      "0    2017-01-01  2017    1    1\n",
      "1    2017-01-02  2017    1    2\n",
      "2    2017-01-03  2017    1    3\n",
      "3    2017-01-04  2017    1    4\n",
      "4    2017-01-05  2017    1    5\n",
      "...         ...   ...  ...  ...\n",
      "1456 2020-12-27  2020   12   27\n",
      "1457 2020-12-28  2020   12   28\n",
      "1458 2020-12-29  2020   12   29\n",
      "1459 2020-12-30  2020   12   30\n",
      "1460 2020-12-31  2020   12   31\n",
      "\n",
      "[1461 rows x 4 columns]\n"
     ]
    }
   ],
   "source": [
    "\n",
    "# Primero, convierte la columna de fecha a tipo datetime si aún no lo está\n",
    "fact_sales['Order date'] = pd.to_datetime(fact_sales['Order date'])\n",
    "\n",
    "# Encuentra la fecha mínima y máxima en tu DataFrame\n",
    "fecha_min = fact_sales['Order date'].min()\n",
    "fecha_max = fact_sales['Order date'].max()\n",
    "\n",
    "# Obtener el año mínimo y máximo\n",
    "anio_min = fecha_min.year\n",
    "anio_max = fecha_max.year\n",
    "\n",
    "# Crear un DataFrame para tu dimensión calendario\n",
    "calendario = pd.DataFrame(columns=['fecha'])\n",
    "\n",
    "# Generar un rango continuo entre el 1 de enero del año mínimo y el 31 de diciembre del año máximo\n",
    "calendario['fecha'] = pd.date_range(start=pd.Timestamp(anio_min, 1, 1), end=pd.Timestamp(anio_max, 12, 31))\n",
    "\n",
    "# Agrega las columnas de año, mes y día\n",
    "calendario['anio'] = calendario['fecha'].dt.year\n",
    "calendario['mes'] = calendario['fecha'].dt.month\n",
    "calendario['dia'] = calendario['fecha'].dt.day\n",
    "\n",
    "# Imprime el DataFrame resultante\n",
    "print(calendario)\n"
   ]
  }
 ],
 "metadata": {
  "kernelspec": {
   "display_name": "Python 3",
   "language": "python",
   "name": "python3"
  },
  "language_info": {
   "codemirror_mode": {
    "name": "ipython",
    "version": 3
   },
   "file_extension": ".py",
   "mimetype": "text/x-python",
   "name": "python",
   "nbconvert_exporter": "python",
   "pygments_lexer": "ipython3",
   "version": "3.12.2"
  }
 },
 "nbformat": 4,
 "nbformat_minor": 2
}
