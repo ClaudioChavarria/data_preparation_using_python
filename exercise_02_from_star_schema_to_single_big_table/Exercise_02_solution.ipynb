{
 "cells": [
  {
   "cell_type": "markdown",
   "metadata": {},
   "source": [
    "### Import Pandas\n"
   ]
  },
  {
   "cell_type": "markdown",
   "metadata": {},
   "source": [
    "`Pandas` is a powerful data analysis and manipulation tool, offering easy-to-use data structures and analysis tools for Python"
   ]
  },
  {
   "cell_type": "code",
   "execution_count": 4,
   "metadata": {},
   "outputs": [],
   "source": [
    "import pandas as pd"
   ]
  },
  {
   "cell_type": "markdown",
   "metadata": {},
   "source": [
    "### Define the file path"
   ]
  },
  {
   "cell_type": "code",
   "execution_count": 5,
   "metadata": {},
   "outputs": [],
   "source": [
    "file_path = r\"C:\\Users\\claud\\Desktop\\data_preparation_using_python\\exercise_02_from_star_schema_to_single_big_table\\exercise_02.xlsx\""
   ]
  },
  {
   "cell_type": "markdown",
   "metadata": {},
   "source": [
    "### Load the Excel File"
   ]
  },
  {
   "cell_type": "code",
   "execution_count": 6,
   "metadata": {},
   "outputs": [
    {
     "name": "stdout",
     "output_type": "stream",
     "text": [
      "Sheet Names in the Excel File: ['dim_customer', 'dim_employee', 'dim_employee_sales_territory', 'dim_geography', 'dim_reseller', 'dim_product', 'dim_sales_territory', 'fact_reseller_sales']\n"
     ]
    }
   ],
   "source": [
    "# Load the Excel file\n",
    "try:\n",
    "    with pd.ExcelFile(file_path) as excel_file:\n",
    "\n",
    "        # Get the sheet names\n",
    "        sheet_names = excel_file.sheet_names\n",
    "        print(\"Sheet Names in the Excel File:\" , sheet_names)\n",
    "\n",
    "        # Create a dictionary to store the DataFrames\n",
    "        dataframes = {}\n",
    "\n",
    "        # Iterate over the sheet names and convert each one into a DataFrame\n",
    "        for sheet in sheet_names:\n",
    "            dataframes[sheet] = excel_file.parse(sheet)\n",
    "\n",
    "except FileNotFoundError:\n",
    "    print (f\"Error: The file at path {file_path} was not found\")\n",
    "except ImportError as e:\n",
    "    print(f\"Error {e}\")\n",
    "    print(\"Please install the missing dependency by running: pip install openpyxl or Pandas\")\n",
    "except Exception as e:\n",
    "    print(f\"Error reading the Excel File {e}\")    "
   ]
  },
  {
   "cell_type": "markdown",
   "metadata": {},
   "source": [
    "### Merge"
   ]
  },
  {
   "cell_type": "code",
   "execution_count": 7,
   "metadata": {},
   "outputs": [
    {
     "data": {
      "text/html": [
       "<div>\n",
       "<style scoped>\n",
       "    .dataframe tbody tr th:only-of-type {\n",
       "        vertical-align: middle;\n",
       "    }\n",
       "\n",
       "    .dataframe tbody tr th {\n",
       "        vertical-align: top;\n",
       "    }\n",
       "\n",
       "    .dataframe thead th {\n",
       "        text-align: right;\n",
       "    }\n",
       "</style>\n",
       "<table border=\"1\" class=\"dataframe\">\n",
       "  <thead>\n",
       "    <tr style=\"text-align: right;\">\n",
       "      <th></th>\n",
       "      <th>id_order</th>\n",
       "      <th>Order date</th>\n",
       "      <th>Due date</th>\n",
       "      <th>Ship date</th>\n",
       "      <th>id_product</th>\n",
       "      <th>id_reseller</th>\n",
       "      <th>id_employee</th>\n",
       "      <th>id_sales_territory</th>\n",
       "      <th>Order Quantity</th>\n",
       "    </tr>\n",
       "  </thead>\n",
       "  <tbody>\n",
       "    <tr>\n",
       "      <th>0</th>\n",
       "      <td>SO43897</td>\n",
       "      <td>2017-08-25</td>\n",
       "      <td>2017-09-04</td>\n",
       "      <td>2017-09-01</td>\n",
       "      <td>235</td>\n",
       "      <td>312</td>\n",
       "      <td>282</td>\n",
       "      <td>4</td>\n",
       "      <td>2</td>\n",
       "    </tr>\n",
       "  </tbody>\n",
       "</table>\n",
       "</div>"
      ],
      "text/plain": [
       "  id_order Order date   Due date  Ship date  id_product  id_reseller  \\\n",
       "0  SO43897 2017-08-25 2017-09-04 2017-09-01         235          312   \n",
       "\n",
       "   id_employee  id_sales_territory  Order Quantity  \n",
       "0          282                   4               2  "
      ]
     },
     "execution_count": 7,
     "metadata": {},
     "output_type": "execute_result"
    }
   ],
   "source": [
    "dataframes['fact_reseller_sales'].head(1)"
   ]
  },
  {
   "cell_type": "code",
   "execution_count": 8,
   "metadata": {},
   "outputs": [],
   "source": [
    "fact_single_table = dataframes['fact_reseller_sales'].merge(dataframes['dim_product'], how='left', on='id_product') \\\n",
    "                                                     .merge(dataframes['dim_reseller'], how='left', on='id_reseller') \\\n",
    "                                                     .merge(dataframes['dim_employee'], how='left', on='id_employee') \\\n",
    "                                                     .merge(dataframes['dim_sales_territory'], how='left', on='id_sales_territory') \\\n",
    "                                                     .merge(dataframes['dim_geography'], how='left', on='id_geography')"
   ]
  },
  {
   "cell_type": "code",
   "execution_count": 9,
   "metadata": {},
   "outputs": [
    {
     "data": {
      "text/plain": [
       "Index(['id_order', 'Order date', 'Due date', 'Ship date', 'id_product',\n",
       "       'id_reseller', 'id_employee', 'id_sales_territory', 'Order Quantity',\n",
       "       'product', 'standard cost', 'list price', 'id_geography',\n",
       "       'Business Type', 'reseller', 'Employee', 'Region_x', 'Country', 'Group',\n",
       "       'city', 'state', 'Region_y', 'id_salesterritory'],\n",
       "      dtype='object')"
      ]
     },
     "execution_count": 9,
     "metadata": {},
     "output_type": "execute_result"
    }
   ],
   "source": [
    "fact_single_table.columns"
   ]
  },
  {
   "cell_type": "code",
   "execution_count": 10,
   "metadata": {},
   "outputs": [
    {
     "name": "stdout",
     "output_type": "stream",
     "text": [
      "Dataframes successfully exported to 'output_Exercise_02'\n"
     ]
    }
   ],
   "source": [
    "# Dataframes\n",
    "clear_dataframes = [fact_single_table]\n",
    "\n",
    "# Name of Dataframes\n",
    "sheet_names = [ 'ST_fact_reseller_sales']\n",
    "\n",
    "# export as a xlsx file\n",
    "with pd.ExcelWriter('output_Exercise_02.xlsx') as writer:\n",
    "    for df, sheet in zip(clear_dataframes, sheet_names):\n",
    "        df.to_excel(writer, sheet_name=sheet, index=False)\n",
    "\n",
    "print(\"Dataframes successfully exported to 'output_Exercise_02'\")"
   ]
  }
 ],
 "metadata": {
  "kernelspec": {
   "display_name": "Python 3",
   "language": "python",
   "name": "python3"
  },
  "language_info": {
   "codemirror_mode": {
    "name": "ipython",
    "version": 3
   },
   "file_extension": ".py",
   "mimetype": "text/x-python",
   "name": "python",
   "nbconvert_exporter": "python",
   "pygments_lexer": "ipython3",
   "version": "3.12.2"
  }
 },
 "nbformat": 4,
 "nbformat_minor": 2
}
